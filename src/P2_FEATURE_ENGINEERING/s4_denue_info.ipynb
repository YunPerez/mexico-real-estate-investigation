{
 "cells": [
  {
   "cell_type": "markdown",
   "metadata": {},
   "source": [
    "# DENUE information\n",
    "\n",
    "@roman\n",
    "\n",
    "6 July, 2024"
   ]
  },
  {
   "cell_type": "code",
   "execution_count": null,
   "metadata": {},
   "outputs": [],
   "source": [
    "import os\n",
    "import pandas as pd\n",
    "import numpy as np\n",
    "import matplotlib.pyplot as plt\n",
    "import seaborn as sns\n",
    "import geopandas as gpd\n",
    "from shapely.geometry import Polygon, MultiPolygon, Point\n",
    "import h3\n",
    "from tqdm import tqdm\n",
    "from dotenv import load_dotenv\n",
    "from scipy.spatial import KDTree\n",
    "# dbscan\n",
    "from sklearn.cluster import DBSCAN\n",
    "from INEGIpy import DENUE, MarcoGeoestadistico"
   ]
  },
  {
   "cell_type": "code",
   "execution_count": null,
   "metadata": {},
   "outputs": [],
   "source": [
    "# show 100 columns in pandas\n",
    "pd.set_option('display.max_columns', 100)\n",
    "\n",
    "# Load environment variables\n",
    "load_dotenv()\n",
    "\n",
    "# inegi class\n",
    "denue_api = DENUE(token=os.getenv('API_INEGI'))\n",
    "inegi_api = MarcoGeoestadistico()\n"
   ]
  },
  {
   "cell_type": "code",
   "execution_count": null,
   "metadata": {},
   "outputs": [],
   "source": [
    "# params\n",
    "ESTRATO_CATEGORIES = [\n",
    "    '0 a 5 personas',\n",
    "    '6 a 10 personas',\n",
    "    '11 a 30 personas',\n",
    "    '31 a 50 personas',\n",
    "    '51 a 100 personas',\n",
    "    '101 a 250 personas',\n",
    "    '251 y más personas'\n",
    "]\n",
    "\n",
    "IMPORTANT_VARS_DENUE = [\n",
    "    'CLEE', 'Nombre', 'Razon_social', 'Clase_actividad', 'estrato_category',\n",
    "    'CLASE_ACTIVIDAD_ID', 'SUBRAMA_ACTIVIDAD_ID', 'AreaGeo', 'state_id',\n",
    "    'Fecha_Alta', 'geometry'\n",
    "]"
   ]
  },
  {
   "cell_type": "markdown",
   "metadata": {},
   "source": [
    "---\n",
    "# Data"
   ]
  },
  {
   "cell_type": "markdown",
   "metadata": {},
   "source": [
    "## Properties"
   ]
  },
  {
   "cell_type": "code",
   "execution_count": null,
   "metadata": {},
   "outputs": [],
   "source": [
    "# read properties\n",
    "gdf_properties = gpd.read_parquet(\"../../data/interim/cleaned_data_s6.parquet\")\n",
    "# info\n",
    "gdf_properties.info()"
   ]
  },
  {
   "cell_type": "markdown",
   "metadata": {},
   "source": [
    "## Mexico"
   ]
  },
  {
   "cell_type": "code",
   "execution_count": null,
   "metadata": {},
   "outputs": [],
   "source": [
    "# get mexico shapes\n",
    "gdf_mexico = inegi_api.Entidades()\n",
    "gdf_mexico.shape"
   ]
  },
  {
   "cell_type": "markdown",
   "metadata": {},
   "source": [
    "---\n",
    "# DENUE's Data"
   ]
  },
  {
   "cell_type": "code",
   "execution_count": null,
   "metadata": {},
   "outputs": [],
   "source": [
    "# search denue's data\n",
    "def get_denue_units(list_of_names, activity_id, max_units=100_000):\n",
    "    # fetch each name\n",
    "    list_units_df = []\n",
    "\n",
    "    for name in tqdm(list_of_names):\n",
    "        gdf = denue_api.BuscarAreaAct(\n",
    "            nombre=name,\n",
    "            clave_area='00',\n",
    "            registro_inicial=0,\n",
    "            registro_final=max_units,\n",
    "            estrato='0'\n",
    "        )\n",
    "        list_units_df.append(gdf)\n",
    "    \n",
    "    # concat\n",
    "    df_append = pd.concat(list_units_df, axis=0)\n",
    "\n",
    "    # filter by CLASE_ACTIVIDAD_ID in activity_id\n",
    "    mask = df_append['CLASE_ACTIVIDAD_ID'].isin(activity_id)\n",
    "    df_append = (\n",
    "        df_append\n",
    "        .loc[mask]\n",
    "        # drop\n",
    "        .drop_duplicates('CLEE', keep='first')\n",
    "        .query(\"Tipo == 'Fijo'\")  # we want always fixed units\n",
    "        # format\n",
    "        .assign(\n",
    "            estrato_category=lambda x: pd.Categorical(\n",
    "                x['Estrato'],\n",
    "                categories=ESTRATO_CATEGORIES,\n",
    "                ordered=True\n",
    "            ),\n",
    "            Razon_social=lambda x: \n",
    "                x['Razon_social'].str.strip().str.upper(),\n",
    "            state_id=lambda x: x['AreaGeo'].str[:2],\n",
    "            Fecha_Alta=lambda x: pd.to_datetime(\n",
    "                x['Fecha_Alta'], format='%Y-%m', errors='coerce'\n",
    "            )\n",
    "        )\n",
    "        # drop columns\n",
    "        .loc[:, IMPORTANT_VARS_DENUE]\n",
    "        .reset_index(drop=True)\n",
    "    )\n",
    "    \n",
    "    return df_append\n",
    "\n",
    "\n",
    "def plot_denues(gdf, title='DENUE'):\n",
    "    # plot\n",
    "    fig, ax = plt.subplots(figsize=(8, 8))\n",
    "    gdf_mexico.plot(ax=ax, color='white', edgecolor='black')\n",
    "    gdf.plot(ax=ax, color='C0', markersize=1)\n",
    "    # add titles\n",
    "    plt.title(f'{title} units')\n",
    "    # remove ticks\n",
    "    ax.set_xticks([])\n",
    "    ax.set_yticks([])\n",
    "    # show\n",
    "    plt.show()\n",
    "\n",
    "\n",
    "def denue_eda(gdf, title='DENUE'):\n",
    "    # s2: count razon social\n",
    "    print(f\"\\n {'='*10}Razon social {'='*10}\")\n",
    "    print(gdf['Razon_social'].value_counts(normalize=True).head(10))\n",
    "\n",
    "    # s3 count estrato\n",
    "    print(f\"\\n {'='*10}Estrato {'='*10}\")\n",
    "    print(gdf['estrato_category'].value_counts(normalize=True).sort_index())\n",
    "\n",
    "    # s1: plot map\n",
    "    plot_denues(gdf, title)\n",
    "\n",
    "    # s4: plot ts\n",
    "    fig, ax = plt.subplots(figsize=(8, 4))\n",
    "    gdf.groupby('Fecha_Alta').size().cumsum().plot(ax=ax, drawstyle='steps-post')\n",
    "    # add titles\n",
    "    plt.title(f'{title} units time series')\n",
    "    plt.xticks(rotation=90)\n",
    "    plt.xlabel('Date')\n",
    "    plt.ylabel('Units')\n",
    "    # ylim in 0\n",
    "    plt.ylim(0, None)\n",
    "    # show\n",
    "    plt.show()\n",
    "\n",
    "    # s5: plot state_id\n",
    "    fig, ax = plt.subplots(figsize=(8, 4))\n",
    "    gdf['state_id'].value_counts(normalize=True).sort_index().plot(kind='bar')\n",
    "    # add titles\n",
    "    plt.title(f'{title} units by state')\n",
    "    plt.xticks(rotation=90)\n",
    "    plt.xlabel('State')\n",
    "    plt.ylabel('Percentage')\n",
    "    # y ticks in %\n",
    "    ax.yaxis.set_major_formatter(lambda x, _: f'{x:.0%}')\n",
    "    # show\n",
    "    plt.show()\n",
    "    return None\n",
    "\n",
    "    \n"
   ]
  },
  {
   "cell_type": "markdown",
   "metadata": {},
   "source": [
    "## Supermarkets"
   ]
  },
  {
   "cell_type": "markdown",
   "metadata": {},
   "source": [
    "### Fetch"
   ]
  },
  {
   "cell_type": "code",
   "execution_count": null,
   "metadata": {},
   "outputs": [],
   "source": [
    "# get supermarkets\n",
    "list_names = [\n",
    "    'supermercado'\n",
    "]\n",
    "\n",
    "acivity_ids = [\n",
    "    '462111',  # super comercio al por menor\n",
    "]\n",
    "\n",
    "# fetch\n",
    "gdf_supermarkets = get_denue_units(list_names, acivity_ids)\n",
    "\n",
    "# see the data\n",
    "print(gdf_supermarkets.shape)\n",
    "gdf_supermarkets.sample(5)"
   ]
  },
  {
   "cell_type": "code",
   "execution_count": null,
   "metadata": {},
   "outputs": [],
   "source": [
    "# important supermarkets\n",
    "important_supermarkets = [\n",
    "    'NUEVA WAL MART DE MEXICO S DE RL DE CV',\n",
    "    'TIENDAS SORIANA SA DE CV',\n",
    "    'TIENDAS CHEDRAUI SA DE CV',\n",
    "    'CASA LEY SAPI DE CV',\n",
    "    'QAR SUPERMERCADOS SAPI DE CV',\n",
    "    'CORPORACION SANCHEZ SA DE CV',\n",
    "    'COMERCIAL CITY FRESKO S DE RL DE CV',\n",
    "    'OPERADORA FUTURAMA SA DE CV',\n",
    "    'SUPERMERCADOS INTERNACIONALES HEB SA DE CV',\n",
    "    'SUPERISSSTE',\n",
    "    'INSTITUTO MEXICANO DEL SEGURO SOCIAL',\n",
    "    'SUPER SAN FRANCISCO DE ASIS SA DE CV',\n",
    "    'COSTCO DE MEXICO SA DE CV'\n",
    "]\n",
    "\n",
    "# filter\n",
    "gdf_supermarkets = (\n",
    "    gdf_supermarkets\n",
    "    .query(\"Razon_social in @important_supermarkets\")\n",
    "    .query(\"estrato_category >= '11 a 30 personas'\")\n",
    "    .reset_index(drop=True)\n",
    ")\n",
    "\n",
    "# see\n",
    "print(gdf_supermarkets.shape)"
   ]
  },
  {
   "cell_type": "markdown",
   "metadata": {},
   "source": [
    "### EDA"
   ]
  },
  {
   "cell_type": "code",
   "execution_count": null,
   "metadata": {},
   "outputs": [],
   "source": [
    "# eda\n",
    "denue_eda(gdf_supermarkets, 'Supermarkets')"
   ]
  },
  {
   "cell_type": "markdown",
   "metadata": {},
   "source": [
    "## Hospitals"
   ]
  },
  {
   "cell_type": "code",
   "execution_count": null,
   "metadata": {},
   "outputs": [],
   "source": [
    "# get hospitals\n",
    "list_names = [\n",
    "    'hospitales'\n",
    "]\n",
    "\n",
    "activity_ids = [\n",
    "    '622111',  # private hospitals\n",
    "    '622112',  # public hospitals\n",
    "]\n",
    "\n",
    "# fetch\n",
    "gdf_hospitals = get_denue_units(list_names, activity_ids)\n",
    "\n",
    "# see the data\n",
    "print(gdf_hospitals.shape)\n",
    "gdf_hospitals.sample(5)"
   ]
  },
  {
   "cell_type": "code",
   "execution_count": null,
   "metadata": {},
   "outputs": [],
   "source": [
    "# filter\n",
    "gdf_hospitals = (\n",
    "    gdf_hospitals\n",
    "    .query(\"estrato_category >= '251 y más personas'\")\n",
    "    .reset_index(drop=True)\n",
    ")\n",
    "\n",
    "# see\n",
    "print(gdf_hospitals.shape)"
   ]
  },
  {
   "cell_type": "markdown",
   "metadata": {},
   "source": [
    "### EDA"
   ]
  },
  {
   "cell_type": "code",
   "execution_count": null,
   "metadata": {},
   "outputs": [],
   "source": [
    "# eda\n",
    "denue_eda(gdf_hospitals, 'Hospitals')"
   ]
  },
  {
   "cell_type": "markdown",
   "metadata": {},
   "source": [
    "## Metro\n",
    "\n",
    "This one is more artesanal"
   ]
  },
  {
   "cell_type": "markdown",
   "metadata": {},
   "source": [
    "### Fetch"
   ]
  },
  {
   "cell_type": "code",
   "execution_count": null,
   "metadata": {},
   "outputs": [],
   "source": [
    "# get metro\n",
    "list_names = [\n",
    "    'metro'\n",
    "]\n",
    "\n",
    "activity_ids = [\n",
    "    '485114',  # metro\n",
    "]\n",
    "\n",
    "# fetch\n",
    "gdf_metro = get_denue_units(list_names, activity_ids)\n",
    "\n",
    "# see the data\n",
    "print(gdf_metro.shape)\n",
    "gdf_metro.sample(5)"
   ]
  },
  {
   "cell_type": "markdown",
   "metadata": {},
   "source": [
    "### Filtering"
   ]
  },
  {
   "cell_type": "code",
   "execution_count": null,
   "metadata": {},
   "outputs": [],
   "source": [
    "# see cve_ents\n",
    "gdf_metro['AreaGeo'].str[:2].value_counts()"
   ]
  },
  {
   "cell_type": "code",
   "execution_count": null,
   "metadata": {},
   "outputs": [],
   "source": [
    "# drop rows with cve_ents eq to 11 or 14\n",
    "mask = gdf_metro['AreaGeo'].str[:2].isin(['11', '14'])\n",
    "gdf_metro = gdf_metro[~mask].reset_index(drop=True)\n",
    "gdf_metro.shape"
   ]
  },
  {
   "cell_type": "code",
   "execution_count": null,
   "metadata": {},
   "outputs": [],
   "source": [
    "# explore\n",
    "gdf_metro.loc[:, ['Nombre', 'geometry']].explore(tiles='CartoDB positron')"
   ]
  },
  {
   "cell_type": "markdown",
   "metadata": {},
   "source": [
    "^^^\n",
    "there are more than 1 metro stations in the same location, we need to cluster them"
   ]
  },
  {
   "cell_type": "markdown",
   "metadata": {},
   "source": [
    "### Clean"
   ]
  },
  {
   "cell_type": "code",
   "execution_count": null,
   "metadata": {},
   "outputs": [],
   "source": [
    "# get longitude & latitude\n",
    "gdf_metro = gdf_metro.to_crs('EPSG:6372')\n",
    "gdf_metro['longitude'] = gdf_metro.centroid.x\n",
    "gdf_metro['latitude'] = gdf_metro.centroid.y\n",
    "# return to 4326\n",
    "gdf_metro = gdf_metro.to_crs('EPSG:4326')"
   ]
  },
  {
   "cell_type": "code",
   "execution_count": null,
   "metadata": {},
   "outputs": [],
   "source": [
    "# use dbscan to cluster metro stations\n",
    "eps = 250 # meters\n",
    "min_samples = 2\n",
    "\n",
    "# get clusters\n",
    "dbscan = DBSCAN(eps=eps, min_samples=min_samples)\n",
    "gdf_metro['cluster'] = dbscan.fit_predict(gdf_metro[['latitude', 'longitude']])"
   ]
  },
  {
   "cell_type": "code",
   "execution_count": null,
   "metadata": {},
   "outputs": [],
   "source": [
    "# see clusters\n",
    "gdf_metro['cluster'].value_counts()"
   ]
  },
  {
   "cell_type": "code",
   "execution_count": null,
   "metadata": {},
   "outputs": [],
   "source": [
    "# get only first observation for each cluster\n",
    "gdf_metro_unique_clusters = gdf_metro.query(\"cluster == -1\").copy()\n",
    "gdf_metro_multiple_clusters = gdf_metro.query(\"cluster != -1\").drop_duplicates('cluster', keep='first').copy()\n",
    "\n",
    "# for multiple clusters, get the average of latitude and longitude\n",
    "gdf_metro_multiple_clusters['longitude'] = gdf_metro_multiple_clusters.groupby('cluster')['longitude'].transform('mean')\n",
    "gdf_metro_multiple_clusters['latitude'] = gdf_metro_multiple_clusters.groupby('cluster')['latitude'].transform('mean')\n",
    "\n",
    "# join\n",
    "gdf_metro2 = pd.concat([gdf_metro_unique_clusters, gdf_metro_multiple_clusters], axis=0)\n",
    "gdf_metro2.shape\n",
    "\n",
    "# set new geometry\n",
    "gdf_metro2['geometry'] = gdf_metro2.apply(lambda x: Point(x['longitude'], x['latitude']), axis=1)\n",
    "gdf_metro2 = gpd.GeoDataFrame(gdf_metro2, geometry='geometry', crs='EPSG:6372')\n",
    "\n",
    "# change crs\n",
    "gdf_metro2 = gdf_metro2.to_crs('EPSG:4326')\n"
   ]
  },
  {
   "cell_type": "code",
   "execution_count": null,
   "metadata": {},
   "outputs": [],
   "source": [
    "# explore\n",
    "gdf_metro2.loc[:, ['Nombre', 'geometry']].explore(tiles='CartoDB positron')"
   ]
  },
  {
   "cell_type": "markdown",
   "metadata": {},
   "source": [
    "### EDA"
   ]
  },
  {
   "cell_type": "code",
   "execution_count": null,
   "metadata": {},
   "outputs": [],
   "source": [
    "# eda\n",
    "denue_eda(gdf_metro2, 'Metro')"
   ]
  },
  {
   "cell_type": "markdown",
   "metadata": {},
   "source": [
    "## Schools"
   ]
  },
  {
   "cell_type": "code",
   "execution_count": null,
   "metadata": {},
   "outputs": [],
   "source": [
    "# schools\n",
    "list_names = [\n",
    "    'universidad', 'escuela', 'colegio', 'instituto', 'campus'\n",
    "]\n",
    "\n",
    "activity_ids = [\n",
    "    '611311',  # private universities\n",
    "    '611312',  # public schools\n",
    "]\n",
    "\n",
    "# fetch\n",
    "gdf_schools = get_denue_units(list_names, activity_ids)\n",
    "\n",
    "# see the data\n",
    "print(gdf_schools.shape)\n",
    "gdf_schools.sample(5)"
   ]
  },
  {
   "cell_type": "code",
   "execution_count": null,
   "metadata": {},
   "outputs": [],
   "source": [
    "# filter\n",
    "gdf_schools = (\n",
    "    gdf_schools\n",
    "    .query(\"estrato_category >= '251 y más personas'\")  # big universities\n",
    "    .query(\"Razon_social != '' & Nombre != ''\")  # should be named\n",
    "    .reset_index(drop=True)\n",
    ")\n",
    "\n",
    "# see\n",
    "print(gdf_schools.shape)\n",
    "gdf_schools.sample(5)"
   ]
  },
  {
   "cell_type": "markdown",
   "metadata": {},
   "source": [
    "### EDA"
   ]
  },
  {
   "cell_type": "code",
   "execution_count": null,
   "metadata": {},
   "outputs": [],
   "source": [
    "# count CLASE_ACTIVIDAD_ID\n",
    "gdf_schools['CLASE_ACTIVIDAD_ID'].value_counts()"
   ]
  },
  {
   "cell_type": "code",
   "execution_count": null,
   "metadata": {},
   "outputs": [],
   "source": [
    "# general eda\n",
    "denue_eda(gdf_schools, 'Schools')"
   ]
  },
  {
   "cell_type": "markdown",
   "metadata": {},
   "source": [
    "## Restaurants"
   ]
  },
  {
   "cell_type": "code",
   "execution_count": null,
   "metadata": {},
   "outputs": [],
   "source": [
    "# get restaurants\n",
    "list_names = [\n",
    "    'restaurante', 'cafeteria', 'sushi', 'comida'\n",
    "]\n",
    "\n",
    "activity_ids = [\n",
    "    '722511',  # restaurants\n",
    "    '722512',  # seafood restaurants\n",
    "]\n",
    "\n",
    "# fetch\n",
    "gdf_restaurants = get_denue_units(list_names, activity_ids)\n",
    "\n",
    "# see the data\n",
    "print(gdf_restaurants.shape)"
   ]
  },
  {
   "cell_type": "code",
   "execution_count": null,
   "metadata": {},
   "outputs": [],
   "source": [
    "# filter\n",
    "# mask\n",
    "mask = (\n",
    "    gdf_restaurants['Nombre'].ne('')  # known name\n",
    "    & gdf_restaurants['estrato_category'].ge('6 a 10 personas')\n",
    "    & gdf_restaurants['estrato_category'].le('51 a 100 personas') \n",
    "    & gdf_restaurants['Razon_social'].ne('')  # known razon social\n",
    ")\n",
    "gdf_restaurants = gdf_restaurants[mask].reset_index(drop=True)\n",
    "\n",
    "# see\n",
    "print(gdf_restaurants.shape)\n",
    "gdf_restaurants.sample(5)"
   ]
  },
  {
   "cell_type": "markdown",
   "metadata": {},
   "source": [
    "### EDA"
   ]
  },
  {
   "cell_type": "code",
   "execution_count": null,
   "metadata": {},
   "outputs": [],
   "source": [
    "# general eda\n",
    "denue_eda(gdf_restaurants, 'Restaurants')"
   ]
  },
  {
   "cell_type": "markdown",
   "metadata": {},
   "source": [
    "## Concat All"
   ]
  },
  {
   "cell_type": "code",
   "execution_count": null,
   "metadata": {},
   "outputs": [],
   "source": [
    "# append all into one\n",
    "gdf_denue = pd.concat([\n",
    "    gdf_supermarkets.assign(category='supermarkets'),\n",
    "    gdf_hospitals.assign(category='hospitals'),\n",
    "    gdf_metro2.assign(category='metro'),\n",
    "    gdf_schools.assign(category='schools'),\n",
    "    gdf_restaurants.assign(category='restaurants')\n",
    "], axis=0)\n",
    "\n",
    "# delete longitude, latitude and cluster\n",
    "gdf_denue = gdf_denue.drop(columns=['longitude', 'latitude', 'cluster'])\n",
    "\n",
    "# see\n",
    "print(gdf_denue.shape)\n",
    "gdf_denue.sample(5)"
   ]
  },
  {
   "cell_type": "code",
   "execution_count": null,
   "metadata": {},
   "outputs": [],
   "source": [
    "# see crs\n",
    "gdf_denue.crs"
   ]
  },
  {
   "cell_type": "code",
   "execution_count": null,
   "metadata": {},
   "outputs": [],
   "source": [
    "# count category by state\n",
    "gdf_denue.groupby(['state_id', 'category']).size().unstack().plot(kind='bar', stacked=True, figsize=(8, 4))"
   ]
  },
  {
   "cell_type": "code",
   "execution_count": null,
   "metadata": {},
   "outputs": [],
   "source": [
    "# plot\n",
    "plot_denues(gdf_denue, 'All DENUE')"
   ]
  },
  {
   "cell_type": "code",
   "execution_count": null,
   "metadata": {},
   "outputs": [],
   "source": [
    "# count unique clee\n",
    "gdf_denue['CLEE'].nunique()"
   ]
  },
  {
   "cell_type": "markdown",
   "metadata": {},
   "source": [
    "## Save"
   ]
  },
  {
   "cell_type": "code",
   "execution_count": null,
   "metadata": {},
   "outputs": [],
   "source": [
    "# save data into misc\n",
    "dir_save = '../../data/misc'\n",
    "os.makedirs(dir_save, exist_ok=True)\n",
    "\n",
    "# save\n",
    "gdf_denue.to_parquet(f'{dir_save}/denue_data.parquet')"
   ]
  },
  {
   "cell_type": "markdown",
   "metadata": {},
   "source": [
    "---\n",
    "# Count Of Units"
   ]
  },
  {
   "cell_type": "code",
   "execution_count": null,
   "metadata": {},
   "outputs": [],
   "source": [
    "dsfas"
   ]
  },
  {
   "cell_type": "markdown",
   "metadata": {},
   "source": [
    "## Count"
   ]
  },
  {
   "cell_type": "code",
   "execution_count": null,
   "metadata": {},
   "outputs": [],
   "source": [
    "# define function to get poiunts at r distance\n",
    "def count_denues(gdf_props, gdf_denues, r=1):\n",
    "    # fit a kdtree\n",
    "    kdtree = KDTree(\n",
    "        data=gdf_denues[['longitude', 'latitude']],\n",
    "    )\n",
    "\n",
    "    # count neighbors at r-km\n",
    "    return kdtree.query_ball_point(\n",
    "        gdf_props[['longitude', 'latitude']],\n",
    "        r=r * 1_000,\n",
    "        workers=-1,\n",
    "        return_length=True\n",
    "    )"
   ]
  },
  {
   "cell_type": "code",
   "execution_count": null,
   "metadata": {},
   "outputs": [],
   "source": [
    "# set crs to 6372\n",
    "gdf_properties = gdf_properties.to_crs('EPSG:6372')\n",
    "gdf_denue = gdf_denue.to_crs('EPSG:6372')\n",
    "\n",
    "# get longitude & latitude\n",
    "gdf_properties['longitude'] = gdf_properties.centroid.x\n",
    "gdf_properties['latitude'] = gdf_properties.centroid.y\n",
    "\n",
    "gdf_denue['longitude'] = gdf_denue.centroid.x\n",
    "gdf_denue['latitude'] = gdf_denue.centroid.y"
   ]
  },
  {
   "cell_type": "code",
   "execution_count": null,
   "metadata": {},
   "outputs": [],
   "source": [
    "# count denues\n",
    "dict_activities_search = {\n",
    "    'supermarkets': 1,  # 1 km\n",
    "    'hospitals': 5,\n",
    "    'metro': 1,\n",
    "    'schools': 1,\n",
    "    'restaurants': 1\n",
    "}\n",
    "\n",
    "# count\n",
    "for category, radius in tqdm(dict_activities_search.items()):\n",
    "    gdf_properties[f'count_{category}'] = count_denues(\n",
    "        gdf_properties,\n",
    "        gdf_denue.query(\"category == @category\"),\n",
    "        r=radius\n",
    "        )"
   ]
  },
  {
   "cell_type": "markdown",
   "metadata": {},
   "source": [
    "## EDA"
   ]
  },
  {
   "cell_type": "code",
   "execution_count": null,
   "metadata": {},
   "outputs": [],
   "source": [
    "# describe\n",
    "vars2describe = gdf_properties.columns[gdf_properties.columns.str.startswith('count_')]\n",
    "gdf_properties[vars2describe].describe()"
   ]
  },
  {
   "cell_type": "code",
   "execution_count": null,
   "metadata": {},
   "outputs": [],
   "source": [
    "# see how many have at least one\n",
    "gdf_properties[vars2describe].gt(0).mean().to_frame().T"
   ]
  },
  {
   "cell_type": "markdown",
   "metadata": {},
   "source": [
    "---\n",
    "# Sandbox"
   ]
  },
  {
   "cell_type": "code",
   "execution_count": null,
   "metadata": {},
   "outputs": [],
   "source": []
  }
 ],
 "metadata": {
  "kernelspec": {
   "display_name": "mds-research-stay",
   "language": "python",
   "name": "python3"
  },
  "language_info": {
   "codemirror_mode": {
    "name": "ipython",
    "version": 3
   },
   "file_extension": ".py",
   "mimetype": "text/x-python",
   "name": "python",
   "nbconvert_exporter": "python",
   "pygments_lexer": "ipython3",
   "version": "3.10.14"
  }
 },
 "nbformat": 4,
 "nbformat_minor": 2
}
