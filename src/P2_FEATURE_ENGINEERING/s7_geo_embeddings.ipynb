{
 "cells": [
  {
   "cell_type": "markdown",
   "metadata": {},
   "source": [
    "# Geo Embeddings\n",
    "\n",
    "Notebook to apply different embeddings to represent h3 cells\n",
    "\n",
    "@roman\n",
    "\n",
    "24 / 3 / 25"
   ]
  },
  {
   "cell_type": "markdown",
   "metadata": {},
   "source": [
    "---\n",
    "# Settings"
   ]
  },
  {
   "cell_type": "code",
   "execution_count": null,
   "metadata": {},
   "outputs": [
    {
     "name": "stdout",
     "output_type": "stream",
     "text": [
      "Intel MKL WARNING: Support of Intel(R) Streaming SIMD Extensions 4.2 (Intel(R) SSE4.2) enabled only processors has been deprecated. Intel oneAPI Math Kernel Library 2025.0 will require Intel(R) Advanced Vector Extensions (Intel(R) AVX) instructions.\n",
      "Intel MKL WARNING: Support of Intel(R) Streaming SIMD Extensions 4.2 (Intel(R) SSE4.2) enabled only processors has been deprecated. Intel oneAPI Math Kernel Library 2025.0 will require Intel(R) Advanced Vector Extensions (Intel(R) AVX) instructions.\n"
     ]
    }
   ],
   "source": [
    "import pandas as pd\n",
    "import geopandas as gpd\n",
    "import numpy as np\n",
    "import matplotlib.pyplot as plt\n",
    "from tqdm import tqdm\n",
    "import h3\n",
    "import os\n",
    "import networkx as nx\n",
    "from node2vec import Node2Vec\n",
    "from sklearn.manifold import TSNE\n",
    "\n",
    "from INEGIpy import MarcoGeoestadistico"
   ]
  },
  {
   "cell_type": "code",
   "execution_count": null,
   "metadata": {},
   "outputs": [],
   "source": [
    "# settings\n",
    "pd.options.display.max_columns = 120\n",
    "geo_framework = MarcoGeoestadistico()\n",
    "\n",
    "# params\n",
    "HEX_RESOLUTION = 9"
   ]
  },
  {
   "cell_type": "markdown",
   "metadata": {},
   "source": [
    "---\n",
    "# Data"
   ]
  },
  {
   "cell_type": "markdown",
   "metadata": {},
   "source": [
    "## Read"
   ]
  },
  {
   "cell_type": "markdown",
   "metadata": {},
   "source": [
    "### Inegi\n"
   ]
  },
  {
   "cell_type": "code",
   "execution_count": null,
   "metadata": {},
   "outputs": [],
   "source": [
    "# get all mexico states\n",
    "gdf_mex_states = geo_framework.Entidades()\n",
    "gdf_mex_states.head()"
   ]
  },
  {
   "cell_type": "markdown",
   "metadata": {},
   "source": [
    "### Hexagons"
   ]
  },
  {
   "cell_type": "code",
   "execution_count": null,
   "metadata": {},
   "outputs": [],
   "source": [
    "# hex_id to lat/lon\n",
    "def hex_to_lat_lon(hex_id):\n",
    "    lat, lon = h3.h3_to_geo(hex_id)\n",
    "    return lat, lon\n",
    "\n",
    "# vectorize function\n",
    "v_hex_to_lat_lon = np.vectorize(hex_to_lat_lon)"
   ]
  },
  {
   "cell_type": "code",
   "execution_count": null,
   "metadata": {},
   "outputs": [],
   "source": [
    "# read hex\n",
    "gdf_terrain_prices = pd.read_parquet(\"../../data/misc/terrain_prices.parquet\")\n",
    "\n",
    "# to lat/lon\n",
    "gdf_terrain_prices[\"latitude\"], gdf_terrain_prices[\"longitude\"] = v_hex_to_lat_lon(gdf_terrain_prices[\"hex_id\"])\n",
    "\n",
    "# to geodataframe\n",
    "gdf_terrain_prices = gpd.GeoDataFrame(\n",
    "    gdf_terrain_prices, \n",
    "    geometry=gpd.points_from_xy(gdf_terrain_prices[\"longitude\"], gdf_terrain_prices[\"latitude\"]),\n",
    "    crs=\"EPSG:4326\"\n",
    ")\n",
    "\n",
    "# look\n",
    "print(gdf_terrain_prices.shape)\n",
    "gdf_terrain_prices.head()"
   ]
  },
  {
   "cell_type": "code",
   "execution_count": null,
   "metadata": {},
   "outputs": [],
   "source": [
    "# plot\n",
    "fig, ax = plt.subplots(1, 1, figsize=(10, 10))\n",
    "\n",
    "# plot mexico but without boundries\n",
    "gdf_mex_states.plot(ax=ax, color=\"gray\", alpha=0.5)\n",
    "\n",
    "# add hexagons\n",
    "gdf_terrain_prices.plot(ax=ax, color=\"red\", alpha=0.5)\n",
    "\n",
    "# show\n",
    "plt.show()"
   ]
  },
  {
   "cell_type": "markdown",
   "metadata": {},
   "source": [
    "### Cities"
   ]
  },
  {
   "cell_type": "code",
   "execution_count": null,
   "metadata": {},
   "outputs": [],
   "source": [
    "# read cities\n",
    "gdf_cities = gpd.read_parquet(\"../../data/misc/cities.parquet\")\n",
    "\n",
    "# crs to 4326\n",
    "gdf_cities = gdf_cities.to_crs(epsg=4326)\n",
    "\n",
    "# look\n",
    "print(gdf_cities.shape)\n",
    "gdf_cities.head()"
   ]
  },
  {
   "cell_type": "code",
   "execution_count": null,
   "metadata": {},
   "outputs": [],
   "source": [
    "# plot\n",
    "fig, ax = plt.subplots(1, 1, figsize=(10, 10))\n",
    "\n",
    "# plot mexico but without boundries\n",
    "gdf_mex_states.plot(ax=ax, color=\"gray\", alpha=0.5)\n",
    "\n",
    "# add hexagons\n",
    "gdf_cities.plot(ax=ax, color=\"red\")\n",
    "\n",
    "# show\n",
    "plt.show()"
   ]
  },
  {
   "cell_type": "markdown",
   "metadata": {},
   "source": [
    "## Wrangle"
   ]
  },
  {
   "cell_type": "code",
   "execution_count": null,
   "metadata": {},
   "outputs": [],
   "source": [
    "# spatial join between terrains and cities\n",
    "gdf_terrain_prices = (\n",
    "    gdf_terrain_prices\n",
    "    .sjoin(\n",
    "        gdf_cities, \n",
    "        how=\"left\", \n",
    "        predicate=\"intersects\"\n",
    "    )\n",
    "    .drop(columns=\"index_right\")\n",
    ")\n",
    "\n",
    "# look\n",
    "print(gdf_terrain_prices.shape)\n",
    "gdf_terrain_prices.head()"
   ]
  },
  {
   "cell_type": "markdown",
   "metadata": {},
   "source": [
    "---\n",
    "# Graph2Vec"
   ]
  },
  {
   "cell_type": "markdown",
   "metadata": {},
   "source": [
    "## S1: Get krings for each hex"
   ]
  },
  {
   "cell_type": "code",
   "execution_count": null,
   "metadata": {},
   "outputs": [],
   "source": [
    "# function to get neighbors at ring of size K\n",
    "def get_neighbors(hex_id, K):\n",
    "    return list(h3.hex_ring(hex_id, K))\n",
    "\n",
    "# get neighbors and explode into a DataFrame\n",
    "df_hex_neighbors = (\n",
    "    gdf_terrain_prices[[\"hex_id\"]]\n",
    "    .assign(neighbors=lambda df: df[\"hex_id\"].apply(get_neighbors, K=1))\n",
    "    .explode(\"neighbors\")\n",
    "    .rename(columns={\"hex_id\": \"hex_center_id\", \"neighbors\": \"hex_neighbor_id\"})\n",
    "    .reset_index(drop=True)\n",
    "    .set_index([\"hex_center_id\"])\n",
    ")\n",
    "\n",
    "# look\n",
    "df_hex_neighbors"
   ]
  },
  {
   "cell_type": "code",
   "execution_count": null,
   "metadata": {},
   "outputs": [],
   "source": [
    "np.isclose(df_hex_neighbors.shape[0] / 6, gdf_terrain_prices.shape[0])"
   ]
  },
  {
   "cell_type": "code",
   "execution_count": null,
   "metadata": {},
   "outputs": [],
   "source": [
    "# unnique hex_center_id\n",
    "df_hex_neighbors.index.nunique()"
   ]
  },
  {
   "cell_type": "markdown",
   "metadata": {},
   "source": [
    "## S2: Create Graph"
   ]
  },
  {
   "cell_type": "code",
   "execution_count": null,
   "metadata": {},
   "outputs": [],
   "source": [
    "# edges\n",
    "edges = [\n",
    "    (center, neighbor)\n",
    "    for center, neighbor in tqdm(df_hex_neighbors.itertuples())\n",
    "]\n",
    "\n",
    "# look edges\n",
    "edges[:5]"
   ]
  },
  {
   "cell_type": "code",
   "execution_count": null,
   "metadata": {},
   "outputs": [],
   "source": [
    "# create graph\n",
    "G = nx.Graph()\n",
    "G.add_edges_from(edges)\n",
    "\n",
    "# Check the graph structure\n",
    "print(f\"Number of nodes: {G.number_of_nodes()}, Number of edges: {G.number_of_edges()}\")"
   ]
  },
  {
   "cell_type": "markdown",
   "metadata": {},
   "source": [
    "Some Hex IDs in the Neighbor Column Don’t Exist in the Main Column"
   ]
  },
  {
   "cell_type": "markdown",
   "metadata": {},
   "source": [
    "## S3: Train Graph2Vec"
   ]
  },
  {
   "cell_type": "code",
   "execution_count": null,
   "metadata": {},
   "outputs": [],
   "source": [
    "# Define Node2Vec model\n",
    "node2vec = Node2Vec(G, dimensions=16, walk_length=10, num_walks=10, workers=4)\n",
    "\n",
    "# Fit model\n",
    "model = node2vec.fit(window=5, min_count=1, batch_words=4)"
   ]
  },
  {
   "cell_type": "code",
   "execution_count": null,
   "metadata": {},
   "outputs": [],
   "source": [
    "# Get embeddings\n",
    "df_hex_embeddings = pd.DataFrame({hex_id: model.wv[hex_id] for hex_id in G.nodes}).T\n",
    "\n",
    "# rename columns\n",
    "df_hex_embeddings.columns = [f\"hex_embedding_{i+1}\" for i in range(df_hex_embeddings.shape[1])]\n",
    "\n",
    "df_hex_embeddings"
   ]
  },
  {
   "cell_type": "code",
   "execution_count": null,
   "metadata": {},
   "outputs": [],
   "source": [
    "# join embeddings to df_terrain_prices\n",
    "cols_of_embeddings = df_hex_embeddings.filter(like=\"hex_embedding\").columns.tolist()\n",
    "\n",
    "gdf_terrain_prices_v2 = (\n",
    "    gdf_terrain_prices\n",
    "    .merge(\n",
    "        df_hex_embeddings.reset_index().rename(columns={\"index\": \"hex_id\"}),\n",
    "        how=\"inner\",\n",
    "        on=\"hex_id\"\n",
    "    )\n",
    "    .loc[:, [\"hex_id\"] + cols_of_embeddings]\n",
    ")\n",
    "\n",
    "# look\n",
    "print(gdf_terrain_prices_v2.shape)\n",
    "gdf_terrain_prices_v2.head()"
   ]
  },
  {
   "cell_type": "markdown",
   "metadata": {},
   "source": [
    "---\n",
    "# Save"
   ]
  },
  {
   "cell_type": "code",
   "execution_count": null,
   "metadata": {},
   "outputs": [],
   "source": [
    "# save embeddings\n",
    "gdf_terrain_prices_v2.to_parquet(\"../../data/misc/hex_embeddings.parquet\")"
   ]
  },
  {
   "cell_type": "code",
   "execution_count": null,
   "metadata": {},
   "outputs": [],
   "source": [
    "# save model\n",
    "model.save(\"../../models/hex2vec.model\")"
   ]
  },
  {
   "cell_type": "markdown",
   "metadata": {},
   "source": [
    "**Load full model**\n",
    "model = Word2Vec.load(\"node2vec_model.model\")\n",
    "\n",
    "\n",
    "**Load just the word vectors**\n",
    "\n",
    "from gensim.models import KeyedVectors\n",
    "\n",
    "model_wv = KeyedVectors.load_word2vec_format(\"hex_embeddings.bin\", binary=True)\n",
    "\n",
    "**Get the embedding for a hex ID**\n",
    "\n",
    "hex_id = \"8928308280fffff\"  # Example hex ID\n",
    "\n",
    "embedding = model.wv[hex_id]\n",
    "\n",
    "print(embedding)\n",
    "\n"
   ]
  },
  {
   "cell_type": "markdown",
   "metadata": {},
   "source": [
    "---\n",
    "# Sandbox"
   ]
  },
  {
   "cell_type": "code",
   "execution_count": null,
   "metadata": {},
   "outputs": [],
   "source": [
    "gdf_terrain_prices"
   ]
  },
  {
   "cell_type": "code",
   "execution_count": null,
   "metadata": {},
   "outputs": [],
   "source": [
    "# duplicated in gdf_terrain_prices hex_id\n",
    "gdf_terrain_prices['hex_id'].duplicated().sum()"
   ]
  },
  {
   "cell_type": "code",
   "execution_count": null,
   "metadata": {},
   "outputs": [],
   "source": []
  }
 ],
 "metadata": {
  "kernelspec": {
   "display_name": "mds-research-stay",
   "language": "python",
   "name": "python3"
  },
  "language_info": {
   "codemirror_mode": {
    "name": "ipython",
    "version": 3
   },
   "file_extension": ".py",
   "mimetype": "text/x-python",
   "name": "python",
   "nbconvert_exporter": "python",
   "pygments_lexer": "ipython3",
   "version": "3.10.14"
  }
 },
 "nbformat": 4,
 "nbformat_minor": 2
}
