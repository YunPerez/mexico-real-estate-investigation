{
 "cells": [
  {
   "cell_type": "markdown",
   "metadata": {},
   "source": [
    "# Banxico SIE indexes\n",
    "\n",
    "@roman\n",
    "\n",
    "28 June, 2024"
   ]
  },
  {
   "cell_type": "code",
   "execution_count": 54,
   "metadata": {},
   "outputs": [],
   "source": [
    "import os\n",
    "import pandas as pd\n",
    "import numpy as np\n",
    "import matplotlib.pyplot as plt\n",
    "import seaborn as sns\n",
    "\n",
    "from INEGIpy import Indicadores\n",
    "from sie_banxico import SIEBanxico\n",
    "\n",
    "from datetime import datetime\n",
    "from dotenv import load_dotenv\n"
   ]
  },
  {
   "cell_type": "code",
   "execution_count": null,
   "metadata": {},
   "outputs": [],
   "source": [
    "# load environment variables\n",
    "load_dotenv()\n",
    "\n",
    "# inegi class\n",
    "inegi_api = Indicadores(token=os.getenv('API_INEGI'))\n"
   ]
  },
  {
   "cell_type": "markdown",
   "metadata": {},
   "source": [
    "---\n",
    "# InegiPy Exploration"
   ]
  },
  {
   "cell_type": "markdown",
   "metadata": {},
   "source": [
    "## Indicadores"
   ]
  },
  {
   "cell_type": "code",
   "execution_count": null,
   "metadata": {},
   "outputs": [],
   "source": [
    "# see bise catalogue\n",
    "indicadores = inegi_api.catalogo_indicadores('BISE')"
   ]
  },
  {
   "cell_type": "code",
   "execution_count": null,
   "metadata": {},
   "outputs": [],
   "source": [
    "# see bise catalogue\n",
    "indicadores = inegi_api.catalogo_indicadores('BISE')\n",
    "\n",
    "display(indicadores.head())"
   ]
  },
  {
   "cell_type": "code",
   "execution_count": null,
   "metadata": {},
   "outputs": [],
   "source": [
    "series_values_list = [\n",
    "    '6204482218', '6204482221', '6204482223', '6204482231'\n",
    "]\n",
    "indicadores.query(\"value.isin(@series_values_list)\")"
   ]
  },
  {
   "cell_type": "markdown",
   "metadata": {},
   "source": [
    "## Get INPC"
   ]
  },
  {
   "cell_type": "markdown",
   "metadata": {},
   "source": [
    "### trial 1: '583731'"
   ]
  },
  {
   "cell_type": "code",
   "execution_count": null,
   "metadata": {},
   "outputs": [],
   "source": [
    "# get inpc\n",
    "df_inpc, metadatos = inegi_api.obtener_df(\n",
    "    indicadores='583731',\n",
    "    metadatos=True,\n",
    "\n",
    ")\n",
    "df_inpc"
   ]
  },
  {
   "cell_type": "code",
   "execution_count": null,
   "metadata": {},
   "outputs": [],
   "source": [
    "inegi_api.consulta_metadatos(metadatos)"
   ]
  },
  {
   "cell_type": "markdown",
   "metadata": {},
   "source": [
    "### trial 2: "
   ]
  },
  {
   "cell_type": "code",
   "execution_count": null,
   "metadata": {},
   "outputs": [],
   "source": [
    "# get inpc\n",
    "df_inpc, metadatos = inegi_api.obtener_df(\n",
    "    indicadores='628194',\n",
    "    metadatos=True,\n",
    "\n",
    ")\n",
    "df_inpc, inegi_api.consulta_metadatos(metadatos)"
   ]
  },
  {
   "cell_type": "markdown",
   "metadata": {},
   "source": [
    "### trial 3: granularity\n",
    "\n",
    "[Here](https://www.inegi.org.mx/app/tabulados/default.aspx?nc=ca61_2018&idrt=137&opc=t) is the link to the INPC data by state, however, data is not easy to download. There are 55 cities."
   ]
  },
  {
   "cell_type": "code",
   "execution_count": null,
   "metadata": {},
   "outputs": [],
   "source": [
    "# get inpc\n",
    "df_inpc, metadatos = inegi_api.obtener_df(\n",
    "    indicadores='590684',\n",
    "    metadatos=True,\n",
    ")\n",
    "df_inpc, inegi_api.consulta_metadatos(metadatos)"
   ]
  },
  {
   "cell_type": "markdown",
   "metadata": {},
   "source": [
    "---\n",
    "# Banxico SIE"
   ]
  },
  {
   "cell_type": "markdown",
   "metadata": {},
   "source": [
    "## Minimum Wage"
   ]
  },
  {
   "cell_type": "code",
   "execution_count": null,
   "metadata": {},
   "outputs": [],
   "source": [
    "list(minimum_wage_data.values())"
   ]
  },
  {
   "cell_type": "code",
   "execution_count": 61,
   "metadata": {},
   "outputs": [],
   "source": [
    "# get data from Banxico\n",
    "minimum_wage_data = {\n",
    "    'no_border_north': 'SL11296',\n",
    "    'general': 'SL11297',\n",
    "\n",
    "}\n",
    "banxico_api = SIEBanxico(\n",
    "    token=os.getenv('API_BANXICO'),\n",
    "    id_series=list(minimum_wage_data.values()),\n",
    "    language='en'\n",
    ")"
   ]
  },
  {
   "cell_type": "code",
   "execution_count": null,
   "metadata": {},
   "outputs": [],
   "source": [
    "# see metadata\n",
    "banxico_api.get_metadata()"
   ]
  },
  {
   "cell_type": "code",
   "execution_count": null,
   "metadata": {},
   "outputs": [],
   "source": [
    "# consult data\n",
    "today = datetime.today().strftime('%Y-%m-%d')\n",
    "series_data = banxico_api.get_timeseries_range(\n",
    "    init_date='2019-01-01',\n",
    "    end_date=today\n",
    ")\n",
    "series_data"
   ]
  },
  {
   "cell_type": "code",
   "execution_count": null,
   "metadata": {},
   "outputs": [],
   "source": [
    "dict_df = {}\n",
    "for serie in series_data['bmx']['series']:\n",
    "    df = pd.DataFrame(serie['datos'])\n",
    "    df['date'] = pd.to_datetime(df['fecha'], format='%d/%m/%Y')\n",
    "    df.set_index('date', inplace=True)\n",
    "    df.drop(columns=['fecha'], inplace=True)\n",
    "    df.index = df.index.strftime('%Y-%m-%d')\n",
    "    df = df.rename(columns={'dato': serie['idSerie']})\n",
    "    dict_df[serie['idSerie']] = df\n",
    "\n",
    "# join dataframes by index\n",
    "df = pd.concat(dict_df.values(), axis=1)\n",
    "\n",
    "# index to DateTimeIndex\n",
    "df.index = pd.to_datetime(df.index)\n",
    "\n",
    "# see df\n",
    "df"
   ]
  },
  {
   "cell_type": "markdown",
   "metadata": {},
   "source": [
    "---\n",
    "# Sandbox"
   ]
  },
  {
   "cell_type": "code",
   "execution_count": null,
   "metadata": {},
   "outputs": [],
   "source": [
    "?inegi_api.obtener_df"
   ]
  }
 ],
 "metadata": {
  "kernelspec": {
   "display_name": "mds-research-stay",
   "language": "python",
   "name": "python3"
  },
  "language_info": {
   "codemirror_mode": {
    "name": "ipython",
    "version": 3
   },
   "file_extension": ".py",
   "mimetype": "text/x-python",
   "name": "python",
   "nbconvert_exporter": "python",
   "pygments_lexer": "ipython3",
   "version": "3.10.14"
  }
 },
 "nbformat": 4,
 "nbformat_minor": 2
}
